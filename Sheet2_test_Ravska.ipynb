{
 "cells": [
  {
   "cell_type": "code",
   "execution_count": 1,
   "id": "bf30891e",
   "metadata": {},
   "outputs": [],
   "source": [
    "import pandas as pd\n",
    "import numpy as np\n",
    "import re\n",
    "from openpyxl import load_workbook"
   ]
  },
  {
   "cell_type": "code",
   "execution_count": 4,
   "id": "8e6a126c",
   "metadata": {},
   "outputs": [
    {
     "name": "stdout",
     "output_type": "stream",
     "text": [
      "3\n"
     ]
    }
   ],
   "source": [
    "file = \"C:/Users/olran/OneDrive/Робочий стіл/Test MS Excel_2023_для аналітика 4 – копія.xlsx\"\n",
    "wb = load_workbook(file)\n",
    "ws = wb[\"task2\"]\n",
    "print(len(ws.tables))"
   ]
  },
  {
   "cell_type": "code",
   "execution_count": 5,
   "id": "e8f620d3",
   "metadata": {},
   "outputs": [
    {
     "data": {
      "text/plain": [
       "{'Таблиця6': 'A2:C30', 'Таблиця9': 'E3:F7', 'Таблиця10': 'E9:F14'}"
      ]
     },
     "execution_count": 5,
     "metadata": {},
     "output_type": "execute_result"
    }
   ],
   "source": [
    "{key : value for key, value in ws.tables.items()}"
   ]
  },
  {
   "cell_type": "code",
   "execution_count": 6,
   "id": "44827996",
   "metadata": {},
   "outputs": [],
   "source": [
    "mapping = {}\n",
    "\n",
    "for entry, data_boundary in ws.tables.items():\n",
    "    data = ws[data_boundary]\n",
    "    content = [[cell.value for cell in ent] \n",
    "               for ent in data ]\n",
    "    \n",
    "    header = content[0]\n",
    "    rest = content[1:]\n",
    "\n",
    "    df = pd.DataFrame(rest, columns = header)\n",
    "    mapping[entry] = df"
   ]
  },
  {
   "cell_type": "code",
   "execution_count": 7,
   "id": "656ead3b",
   "metadata": {},
   "outputs": [],
   "source": [
    "Таблиця2, Таблиця7, Таблиця8 = mapping.values()\n",
    "task2_df1 = Таблиця2\n",
    "task2_df2 = Таблиця7\n",
    "task2_df3 = Таблиця8\n"
   ]
  },
  {
   "cell_type": "code",
   "execution_count": 8,
   "id": "9d2d71cb",
   "metadata": {},
   "outputs": [
    {
     "data": {
      "text/html": [
       "<div>\n",
       "<style scoped>\n",
       "    .dataframe tbody tr th:only-of-type {\n",
       "        vertical-align: middle;\n",
       "    }\n",
       "\n",
       "    .dataframe tbody tr th {\n",
       "        vertical-align: top;\n",
       "    }\n",
       "\n",
       "    .dataframe thead th {\n",
       "        text-align: right;\n",
       "    }\n",
       "</style>\n",
       "<table border=\"1\" class=\"dataframe\">\n",
       "  <thead>\n",
       "    <tr style=\"text-align: right;\">\n",
       "      <th></th>\n",
       "      <th>Ref Code 1</th>\n",
       "      <th>Ref Code 2</th>\n",
       "      <th>None</th>\n",
       "    </tr>\n",
       "  </thead>\n",
       "  <tbody>\n",
       "    <tr>\n",
       "      <th>0</th>\n",
       "      <td>m_reg_paid4_SOURCEREF_rm_thori</td>\n",
       "      <td>rm_thori</td>\n",
       "      <td>Пример*</td>\n",
       "    </tr>\n",
       "    <tr>\n",
       "      <th>1</th>\n",
       "      <td>rerwm_reg_paid4_SOURCEREF_rm_tyrrty9856739</td>\n",
       "      <td>rm_tyrrty9856739</td>\n",
       "      <td>None</td>\n",
       "    </tr>\n",
       "    <tr>\n",
       "      <th>2</th>\n",
       "      <td>rrewm_reg_paid2_SOURCEREF_ns_dfser</td>\n",
       "      <td>ns_dfser</td>\n",
       "      <td>None</td>\n",
       "    </tr>\n",
       "    <tr>\n",
       "      <th>3</th>\n",
       "      <td>rrwem_reg_paid3_SOURCEREF_wp_кеукеввапвпrwe</td>\n",
       "      <td>wp_кеукеввапвпrwe</td>\n",
       "      <td>None</td>\n",
       "    </tr>\n",
       "    <tr>\n",
       "      <th>4</th>\n",
       "      <td>rewm_reg_paid3_SOURCEREF_wp_w2екуеукпав</td>\n",
       "      <td>None</td>\n",
       "      <td>None</td>\n",
       "    </tr>\n",
       "  </tbody>\n",
       "</table>\n",
       "</div>"
      ],
      "text/plain": [
       "                                    Ref Code 1         Ref Code 2     None\n",
       "0               m_reg_paid4_SOURCEREF_rm_thori           rm_thori  Пример*\n",
       "1   rerwm_reg_paid4_SOURCEREF_rm_tyrrty9856739   rm_tyrrty9856739     None\n",
       "2           rrewm_reg_paid2_SOURCEREF_ns_dfser           ns_dfser     None\n",
       "3  rrwem_reg_paid3_SOURCEREF_wp_кеукеввапвпrwe  wp_кеукеввапвпrwe     None\n",
       "4      rewm_reg_paid3_SOURCEREF_wp_w2екуеукпав               None     None"
      ]
     },
     "metadata": {},
     "output_type": "display_data"
    },
    {
     "data": {
      "text/html": [
       "<div>\n",
       "<style scoped>\n",
       "    .dataframe tbody tr th:only-of-type {\n",
       "        vertical-align: middle;\n",
       "    }\n",
       "\n",
       "    .dataframe tbody tr th {\n",
       "        vertical-align: top;\n",
       "    }\n",
       "\n",
       "    .dataframe thead th {\n",
       "        text-align: right;\n",
       "    }\n",
       "</style>\n",
       "<table border=\"1\" class=\"dataframe\">\n",
       "  <thead>\n",
       "    <tr style=\"text-align: right;\">\n",
       "      <th></th>\n",
       "      <th>Таблиця 2</th>\n",
       "      <th>Кількість у таблиці</th>\n",
       "    </tr>\n",
       "  </thead>\n",
       "  <tbody>\n",
       "    <tr>\n",
       "      <th>0</th>\n",
       "      <td>paid1</td>\n",
       "      <td>None</td>\n",
       "    </tr>\n",
       "    <tr>\n",
       "      <th>1</th>\n",
       "      <td>paid2</td>\n",
       "      <td>None</td>\n",
       "    </tr>\n",
       "    <tr>\n",
       "      <th>2</th>\n",
       "      <td>paid3</td>\n",
       "      <td>None</td>\n",
       "    </tr>\n",
       "    <tr>\n",
       "      <th>3</th>\n",
       "      <td>paid4</td>\n",
       "      <td>None</td>\n",
       "    </tr>\n",
       "  </tbody>\n",
       "</table>\n",
       "</div>"
      ],
      "text/plain": [
       "  Таблиця 2 Кількість у таблиці \n",
       "0     paid1                 None\n",
       "1     paid2                 None\n",
       "2     paid3                 None\n",
       "3     paid4                 None"
      ]
     },
     "metadata": {},
     "output_type": "display_data"
    },
    {
     "data": {
      "text/html": [
       "<div>\n",
       "<style scoped>\n",
       "    .dataframe tbody tr th:only-of-type {\n",
       "        vertical-align: middle;\n",
       "    }\n",
       "\n",
       "    .dataframe tbody tr th {\n",
       "        vertical-align: top;\n",
       "    }\n",
       "\n",
       "    .dataframe thead th {\n",
       "        text-align: right;\n",
       "    }\n",
       "</style>\n",
       "<table border=\"1\" class=\"dataframe\">\n",
       "  <thead>\n",
       "    <tr style=\"text-align: right;\">\n",
       "      <th></th>\n",
       "      <th>Таблиця 3</th>\n",
       "      <th>Кількість у таблиці</th>\n",
       "    </tr>\n",
       "  </thead>\n",
       "  <tbody>\n",
       "    <tr>\n",
       "      <th>0</th>\n",
       "      <td>wp</td>\n",
       "      <td>None</td>\n",
       "    </tr>\n",
       "    <tr>\n",
       "      <th>1</th>\n",
       "      <td>mb</td>\n",
       "      <td>None</td>\n",
       "    </tr>\n",
       "    <tr>\n",
       "      <th>2</th>\n",
       "      <td>rm</td>\n",
       "      <td>None</td>\n",
       "    </tr>\n",
       "    <tr>\n",
       "      <th>3</th>\n",
       "      <td>ns</td>\n",
       "      <td>None</td>\n",
       "    </tr>\n",
       "    <tr>\n",
       "      <th>4</th>\n",
       "      <td>dr</td>\n",
       "      <td>None</td>\n",
       "    </tr>\n",
       "  </tbody>\n",
       "</table>\n",
       "</div>"
      ],
      "text/plain": [
       "  Таблиця 3 Кількість у таблиці \n",
       "0        wp                 None\n",
       "1        mb                 None\n",
       "2        rm                 None\n",
       "3        ns                 None\n",
       "4        dr                 None"
      ]
     },
     "metadata": {},
     "output_type": "display_data"
    }
   ],
   "source": [
    "display(task2_df1.head(), task2_df2.head(), task2_df3.head())"
   ]
  },
  {
   "cell_type": "code",
   "execution_count": 9,
   "id": "59110d06",
   "metadata": {},
   "outputs": [],
   "source": [
    "for index, row in task2_df1.iterrows():\n",
    "    ref_code = row['Ref Code 1']\n",
    "    if 'SOURCEREF_' in ref_code:\n",
    "        start_index = ref_code.index('SOURCEREF_') + len('SOURCEREF_')\n",
    "        b_value = ref_code[start_index:]\n",
    "        task2_df1.at[index, 'Ref Code 2'] = b_value"
   ]
  },
  {
   "cell_type": "code",
   "execution_count": 10,
   "id": "28a547d0",
   "metadata": {},
   "outputs": [],
   "source": [
    "subwords = [\"paid1\", \"paid2\", \"paid3\", \"paid4\"]\n",
    "\n",
    "results = {subword: 0 for subword in subwords}\n",
    "\n",
    "for ref_code in task2_df1['Ref Code 1']:\n",
    "    for subword in subwords:\n",
    "        results[subword] += ref_code.count(subword)\n",
    "\n",
    "results_df = pd.DataFrame([results])"
   ]
  },
  {
   "cell_type": "code",
   "execution_count": 11,
   "id": "d9ba96c1",
   "metadata": {},
   "outputs": [],
   "source": [
    "results_df = results_df.T\n",
    "results_df.columns = [\"Кількість у таблиці\"]\n",
    "task2_df2 = results_df"
   ]
  },
  {
   "cell_type": "code",
   "execution_count": 12,
   "id": "7654e9d1",
   "metadata": {},
   "outputs": [
    {
     "data": {
      "text/html": [
       "<div>\n",
       "<style scoped>\n",
       "    .dataframe tbody tr th:only-of-type {\n",
       "        vertical-align: middle;\n",
       "    }\n",
       "\n",
       "    .dataframe tbody tr th {\n",
       "        vertical-align: top;\n",
       "    }\n",
       "\n",
       "    .dataframe thead th {\n",
       "        text-align: right;\n",
       "    }\n",
       "</style>\n",
       "<table border=\"1\" class=\"dataframe\">\n",
       "  <thead>\n",
       "    <tr style=\"text-align: right;\">\n",
       "      <th></th>\n",
       "      <th>Кількість у таблиці</th>\n",
       "    </tr>\n",
       "  </thead>\n",
       "  <tbody>\n",
       "    <tr>\n",
       "      <th>paid1</th>\n",
       "      <td>0</td>\n",
       "    </tr>\n",
       "    <tr>\n",
       "      <th>paid2</th>\n",
       "      <td>7</td>\n",
       "    </tr>\n",
       "    <tr>\n",
       "      <th>paid3</th>\n",
       "      <td>14</td>\n",
       "    </tr>\n",
       "    <tr>\n",
       "      <th>paid4</th>\n",
       "      <td>7</td>\n",
       "    </tr>\n",
       "  </tbody>\n",
       "</table>\n",
       "</div>"
      ],
      "text/plain": [
       "       Кількість у таблиці\n",
       "paid1                    0\n",
       "paid2                    7\n",
       "paid3                   14\n",
       "paid4                    7"
      ]
     },
     "execution_count": 12,
     "metadata": {},
     "output_type": "execute_result"
    }
   ],
   "source": [
    "task2_df2"
   ]
  },
  {
   "cell_type": "code",
   "execution_count": 13,
   "id": "e08e9390",
   "metadata": {},
   "outputs": [],
   "source": [
    "subwords = [\"wp\", \"mb\", \"rm\", \"ns\", \"dr\"]\n",
    "\n",
    "results = {subword: 0 for subword in subwords}\n",
    "\n",
    "for ref_code in task2_df1['Ref Code 1']:\n",
    "    for subword in subwords:\n",
    "        results[subword] += ref_code.count(subword)\n",
    "\n",
    "results_df_2 = pd.DataFrame([results])"
   ]
  },
  {
   "cell_type": "code",
   "execution_count": 14,
   "id": "654b9f1b",
   "metadata": {},
   "outputs": [],
   "source": [
    "results_df_2 = results_df_2.T\n",
    "results_df_2.columns = [\"Кількість у таблиці \"]\n",
    "task2_df3 = results_df_2"
   ]
  },
  {
   "cell_type": "code",
   "execution_count": 15,
   "id": "e285fa4c",
   "metadata": {},
   "outputs": [
    {
     "data": {
      "text/html": [
       "<div>\n",
       "<style scoped>\n",
       "    .dataframe tbody tr th:only-of-type {\n",
       "        vertical-align: middle;\n",
       "    }\n",
       "\n",
       "    .dataframe tbody tr th {\n",
       "        vertical-align: top;\n",
       "    }\n",
       "\n",
       "    .dataframe thead th {\n",
       "        text-align: right;\n",
       "    }\n",
       "</style>\n",
       "<table border=\"1\" class=\"dataframe\">\n",
       "  <thead>\n",
       "    <tr style=\"text-align: right;\">\n",
       "      <th></th>\n",
       "      <th>Кількість у таблиці</th>\n",
       "    </tr>\n",
       "  </thead>\n",
       "  <tbody>\n",
       "    <tr>\n",
       "      <th>wp</th>\n",
       "      <td>10</td>\n",
       "    </tr>\n",
       "    <tr>\n",
       "      <th>mb</th>\n",
       "      <td>3</td>\n",
       "    </tr>\n",
       "    <tr>\n",
       "      <th>rm</th>\n",
       "      <td>13</td>\n",
       "    </tr>\n",
       "    <tr>\n",
       "      <th>ns</th>\n",
       "      <td>3</td>\n",
       "    </tr>\n",
       "    <tr>\n",
       "      <th>dr</th>\n",
       "      <td>0</td>\n",
       "    </tr>\n",
       "  </tbody>\n",
       "</table>\n",
       "</div>"
      ],
      "text/plain": [
       "    Кількість у таблиці \n",
       "wp                    10\n",
       "mb                     3\n",
       "rm                    13\n",
       "ns                     3\n",
       "dr                     0"
      ]
     },
     "execution_count": 15,
     "metadata": {},
     "output_type": "execute_result"
    }
   ],
   "source": [
    "task2_df3"
   ]
  },
  {
   "cell_type": "code",
   "execution_count": 16,
   "id": "b8fb2353",
   "metadata": {},
   "outputs": [
    {
     "data": {
      "text/html": [
       "<div>\n",
       "<style scoped>\n",
       "    .dataframe tbody tr th:only-of-type {\n",
       "        vertical-align: middle;\n",
       "    }\n",
       "\n",
       "    .dataframe tbody tr th {\n",
       "        vertical-align: top;\n",
       "    }\n",
       "\n",
       "    .dataframe thead th {\n",
       "        text-align: right;\n",
       "    }\n",
       "</style>\n",
       "<table border=\"1\" class=\"dataframe\">\n",
       "  <thead>\n",
       "    <tr style=\"text-align: right;\">\n",
       "      <th></th>\n",
       "      <th>Ref Code 1</th>\n",
       "      <th>Ref Code 2</th>\n",
       "      <th>None</th>\n",
       "    </tr>\n",
       "  </thead>\n",
       "  <tbody>\n",
       "    <tr>\n",
       "      <th>0</th>\n",
       "      <td>m_reg_paid4_SOURCEREF_rm_thori</td>\n",
       "      <td>rm_thori</td>\n",
       "      <td>Пример*</td>\n",
       "    </tr>\n",
       "    <tr>\n",
       "      <th>1</th>\n",
       "      <td>rerwm_reg_paid4_SOURCEREF_rm_tyrrty9856739</td>\n",
       "      <td>rm_tyrrty9856739</td>\n",
       "      <td>None</td>\n",
       "    </tr>\n",
       "    <tr>\n",
       "      <th>2</th>\n",
       "      <td>rrewm_reg_paid2_SOURCEREF_ns_dfser</td>\n",
       "      <td>ns_dfser</td>\n",
       "      <td>None</td>\n",
       "    </tr>\n",
       "    <tr>\n",
       "      <th>3</th>\n",
       "      <td>rrwem_reg_paid3_SOURCEREF_wp_кеукеввапвпrwe</td>\n",
       "      <td>wp_кеукеввапвпrwe</td>\n",
       "      <td>None</td>\n",
       "    </tr>\n",
       "    <tr>\n",
       "      <th>4</th>\n",
       "      <td>rewm_reg_paid3_SOURCEREF_wp_w2екуеукпав</td>\n",
       "      <td>wp_w2екуеукпав</td>\n",
       "      <td>None</td>\n",
       "    </tr>\n",
       "  </tbody>\n",
       "</table>\n",
       "</div>"
      ],
      "text/plain": [
       "                                    Ref Code 1         Ref Code 2     None\n",
       "0               m_reg_paid4_SOURCEREF_rm_thori           rm_thori  Пример*\n",
       "1   rerwm_reg_paid4_SOURCEREF_rm_tyrrty9856739   rm_tyrrty9856739     None\n",
       "2           rrewm_reg_paid2_SOURCEREF_ns_dfser           ns_dfser     None\n",
       "3  rrwem_reg_paid3_SOURCEREF_wp_кеукеввапвпrwe  wp_кеукеввапвпrwe     None\n",
       "4      rewm_reg_paid3_SOURCEREF_wp_w2екуеукпав     wp_w2екуеукпав     None"
      ]
     },
     "metadata": {},
     "output_type": "display_data"
    },
    {
     "data": {
      "text/html": [
       "<div>\n",
       "<style scoped>\n",
       "    .dataframe tbody tr th:only-of-type {\n",
       "        vertical-align: middle;\n",
       "    }\n",
       "\n",
       "    .dataframe tbody tr th {\n",
       "        vertical-align: top;\n",
       "    }\n",
       "\n",
       "    .dataframe thead th {\n",
       "        text-align: right;\n",
       "    }\n",
       "</style>\n",
       "<table border=\"1\" class=\"dataframe\">\n",
       "  <thead>\n",
       "    <tr style=\"text-align: right;\">\n",
       "      <th></th>\n",
       "      <th>Кількість у таблиці</th>\n",
       "    </tr>\n",
       "  </thead>\n",
       "  <tbody>\n",
       "    <tr>\n",
       "      <th>paid1</th>\n",
       "      <td>0</td>\n",
       "    </tr>\n",
       "    <tr>\n",
       "      <th>paid2</th>\n",
       "      <td>7</td>\n",
       "    </tr>\n",
       "    <tr>\n",
       "      <th>paid3</th>\n",
       "      <td>14</td>\n",
       "    </tr>\n",
       "    <tr>\n",
       "      <th>paid4</th>\n",
       "      <td>7</td>\n",
       "    </tr>\n",
       "  </tbody>\n",
       "</table>\n",
       "</div>"
      ],
      "text/plain": [
       "       Кількість у таблиці\n",
       "paid1                    0\n",
       "paid2                    7\n",
       "paid3                   14\n",
       "paid4                    7"
      ]
     },
     "metadata": {},
     "output_type": "display_data"
    },
    {
     "data": {
      "text/html": [
       "<div>\n",
       "<style scoped>\n",
       "    .dataframe tbody tr th:only-of-type {\n",
       "        vertical-align: middle;\n",
       "    }\n",
       "\n",
       "    .dataframe tbody tr th {\n",
       "        vertical-align: top;\n",
       "    }\n",
       "\n",
       "    .dataframe thead th {\n",
       "        text-align: right;\n",
       "    }\n",
       "</style>\n",
       "<table border=\"1\" class=\"dataframe\">\n",
       "  <thead>\n",
       "    <tr style=\"text-align: right;\">\n",
       "      <th></th>\n",
       "      <th>Кількість у таблиці</th>\n",
       "    </tr>\n",
       "  </thead>\n",
       "  <tbody>\n",
       "    <tr>\n",
       "      <th>wp</th>\n",
       "      <td>10</td>\n",
       "    </tr>\n",
       "    <tr>\n",
       "      <th>mb</th>\n",
       "      <td>3</td>\n",
       "    </tr>\n",
       "    <tr>\n",
       "      <th>rm</th>\n",
       "      <td>13</td>\n",
       "    </tr>\n",
       "    <tr>\n",
       "      <th>ns</th>\n",
       "      <td>3</td>\n",
       "    </tr>\n",
       "    <tr>\n",
       "      <th>dr</th>\n",
       "      <td>0</td>\n",
       "    </tr>\n",
       "  </tbody>\n",
       "</table>\n",
       "</div>"
      ],
      "text/plain": [
       "    Кількість у таблиці \n",
       "wp                    10\n",
       "mb                     3\n",
       "rm                    13\n",
       "ns                     3\n",
       "dr                     0"
      ]
     },
     "metadata": {},
     "output_type": "display_data"
    }
   ],
   "source": [
    "display(task2_df1.head(), task2_df2.head(), task2_df3.head())"
   ]
  },
  {
   "cell_type": "code",
   "execution_count": 17,
   "id": "edb0106f",
   "metadata": {},
   "outputs": [],
   "source": [
    "with pd.ExcelWriter(file, engine='openpyxl', mode='a',\n",
    "                    if_sheet_exists=\"overlay\") as writer:\n",
    "    task2_df1.to_excel(writer, sheet_name=\"task2_solution\", )\n",
    "    task2_df2.to_excel(writer, sheet_name=\"task2_solution\", startrow=0 ,startcol=13)\n",
    "    task2_df3.to_excel(writer, sheet_name=\"task2_solution\", startrow=5 ,startcol=13)    "
   ]
  }
 ],
 "metadata": {
  "kernelspec": {
   "display_name": "Python 3 (ipykernel)",
   "language": "python",
   "name": "python3"
  },
  "language_info": {
   "codemirror_mode": {
    "name": "ipython",
    "version": 3
   },
   "file_extension": ".py",
   "mimetype": "text/x-python",
   "name": "python",
   "nbconvert_exporter": "python",
   "pygments_lexer": "ipython3",
   "version": "3.11.4"
  }
 },
 "nbformat": 4,
 "nbformat_minor": 5
}
